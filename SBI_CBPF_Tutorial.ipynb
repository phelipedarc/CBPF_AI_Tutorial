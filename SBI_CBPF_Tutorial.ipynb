{
 "cells": [
  {
   "cell_type": "markdown",
   "id": "5d243d2e-4eee-4213-bc97-4aafb7a13bb1",
   "metadata": {},
   "source": [
    "<img src=\"https://www.gov.br/cbpf/pt-br/assuntos/noticias/titular-tem-artigo-em-periodico-de-prestigio/cbpf.png\"  width=\"500\" />\n",
    "\n",
    "# Simulation-Based Inference: <font color=\"#FF7F50\">Neural Posterior Estimation (NPE)</font> Tutorial\n",
    "This repository contains a tutorial notebook demonstrating the implementation of Neural Posterior Estimation (NPE), a powerful method in simulation-based inference. \n",
    "\n",
    "\n",
    "NPE can be employed in two primary configurations:\n",
    "\n",
    "- Sequential Neural Posterior Estimation (SNPE)\n",
    "\n",
    "- Amortized Neural Posterior Estimation (ANPE)\n",
    "\n",
    "## Usage:\n",
    "\n",
    "Explore the world of simulation-based inference, also known as likelihood-free inference (LFI) or SBI, through this Jupyter notebook. Gain insights into the Neural Posterior Estimation method and its applications.\n",
    "\n",
    "### Installation\n",
    "To use this notebook, please ensure that you have the following libraries installed:\n",
    "- PyTorch\n",
    "- NumPy\n",
    "- SBI\n",
    "- kilonovanet [Simulator]\n",
    "\n",
    "To install the SBI package, visit https://www.mackelab.org/sbi/\n",
    "\n",
    "Refer to the last cell of the notebook for essential functions and libraries.\n",
    "\n",
    "\n",
    "### Credits\n",
    "This project was developed by Phelipe Darc  and contributors from CBPF (2024).\n",
    "\n",
    "\n",
    "- E-mail: phelipedarc@gmail.com\n",
    "\n",
    "\n",
    "\n",
    "### Extra Reading:\n",
    "\n",
    "- Article: [Simulation Based Inference of BNS Kilonova Properties: A Case Study with AT2017gfo](https://arxiv.org/abs/2311.09471)\n",
    "\n",
    "- Webpage: [SBI tutorial by Cranmer](https://astroautomata.com/blog/simulation-based-inference/)\n",
    "\n",
    "- Article: [The frontier of simulation-based inference](https://arxiv.org/abs/1911.01429)\n",
    "\n",
    "Feel free to explore and contribute to advance simulation-based inference methods! 🚀"
   ]
  },
  {
   "cell_type": "markdown",
   "id": "ffb1d103-9c32-4678-a173-3107b0f2eefa",
   "metadata": {},
   "source": [
    "---"
   ]
  },
  {
   "cell_type": "markdown",
   "id": "d33d6171-68de-4c6c-81f8-04dca33f035b",
   "metadata": {},
   "source": [
    "# <font color=\"#191970\">Simulation-Based Inference <font>Setup\n",
    "\n",
    "In order to use simulation-based inferece its necessary two things:\n",
    "\n",
    "1) A *Simulator* that takes a set of parameters and produce an observable (In this tutorial we are going to use Kilonovanet)\n",
    "\n",
    "2) A *Prior* distribution for each parameters that the Simulator uses as input.\n",
    "\n",
    "<font color=\"#191970\"> In this tutorial we are going to use *Kilonovanet* (Simulator) which takes a set of parameters **[Mej,dyn, Mej,pm, ϕ, cos(θobs)]** and a list of days after the merger to produce a kilonova **spectra** (or Light Curve).<font>"
   ]
  },
  {
   "cell_type": "code",
   "execution_count": null,
   "id": "2b4272bd-01bc-4a58-878e-c853aff1aee8",
   "metadata": {},
   "outputs": [],
   "source": [
    "%pip install sbi==0.22\n",
    "%pip install kilonovanet"
   ]
  },
  {
   "cell_type": "code",
   "execution_count": 5,
   "id": "cf5552a5-b851-4092-9974-ba62724b1e3e",
   "metadata": {},
   "outputs": [
    {
     "ename": "FileNotFoundError",
     "evalue": "[Errno 2] No such file or directory: 'metadata_bulla_bns.json'",
     "output_type": "error",
     "traceback": [
      "\u001b[0;31m---------------------------------------------------------------------------\u001b[0m",
      "\u001b[0;31mFileNotFoundError\u001b[0m                         Traceback (most recent call last)",
      "Cell \u001b[0;32mIn[5], line 4\u001b[0m\n\u001b[1;32m      2\u001b[0m metadata \u001b[38;5;241m=\u001b[39m \u001b[38;5;124m'\u001b[39m\u001b[38;5;124mmetadata_bulla_bns.json\u001b[39m\u001b[38;5;124m'\u001b[39m\n\u001b[1;32m      3\u001b[0m model_file \u001b[38;5;241m=\u001b[39m \u001b[38;5;124m'\u001b[39m\u001b[38;5;124mbulla-bns-latent-20-hidden-1000-CV-4-2021-04-21-epoch-200.pt\u001b[39m\u001b[38;5;124m'\u001b[39m\n\u001b[0;32m----> 4\u001b[0m model \u001b[38;5;241m=\u001b[39m \u001b[43mkilonovanet\u001b[49m\u001b[38;5;241;43m.\u001b[39;49m\u001b[43mModel\u001b[49m\u001b[43m(\u001b[49m\u001b[43mmetadata\u001b[49m\u001b[43m,\u001b[49m\u001b[43m \u001b[49m\u001b[43mmodel_file\u001b[49m\u001b[43m)\u001b[49m\n",
      "File \u001b[0;32m/opt/conda/lib/python3.11/site-packages/kilonovanet/kilonovanet.py:31\u001b[0m, in \u001b[0;36mModel.__init__\u001b[0;34m(self, metadata_file_path, pytorch_weights_file_path, filter_library_path, observations)\u001b[0m\n\u001b[1;32m     15\u001b[0m \u001b[38;5;28;01mdef\u001b[39;00m \u001b[38;5;21m__init__\u001b[39m(\n\u001b[1;32m     16\u001b[0m     \u001b[38;5;28mself\u001b[39m,\n\u001b[1;32m     17\u001b[0m     metadata_file_path,\n\u001b[0;32m   (...)\u001b[0m\n\u001b[1;32m     20\u001b[0m     observations\u001b[38;5;241m=\u001b[39m\u001b[38;5;28;01mNone\u001b[39;00m,\n\u001b[1;32m     21\u001b[0m ):\n\u001b[1;32m     22\u001b[0m \u001b[38;5;250m    \u001b[39m\u001b[38;5;124;03m\"\"\"\u001b[39;00m\n\u001b[1;32m     23\u001b[0m \u001b[38;5;124;03m    :param metadata_file_path: Metadata json file (see README for specs)\u001b[39;00m\n\u001b[1;32m     24\u001b[0m \u001b[38;5;124;03m    :type metadata_file_path: str\u001b[39;00m\n\u001b[0;32m   (...)\u001b[0m\n\u001b[1;32m     29\u001b[0m \u001b[38;5;124;03m    :type observations: class `kilonovanet.observations.Observations`, optional\u001b[39;00m\n\u001b[1;32m     30\u001b[0m \u001b[38;5;124;03m    \"\"\"\u001b[39;00m\n\u001b[0;32m---> 31\u001b[0m     \u001b[38;5;28;01mwith\u001b[39;00m \u001b[38;5;28;43mopen\u001b[39;49m\u001b[43m(\u001b[49m\u001b[43mmetadata_file_path\u001b[49m\u001b[43m)\u001b[49m \u001b[38;5;28;01mas\u001b[39;00m json_file:\n\u001b[1;32m     32\u001b[0m         metadata \u001b[38;5;241m=\u001b[39m json\u001b[38;5;241m.\u001b[39mload(json_file)\n\u001b[1;32m     34\u001b[0m     \u001b[38;5;28mself\u001b[39m\u001b[38;5;241m.\u001b[39mlatent_units \u001b[38;5;241m=\u001b[39m metadata[\u001b[38;5;124m\"\u001b[39m\u001b[38;5;124mlatent_units\u001b[39m\u001b[38;5;124m\"\u001b[39m]\n",
      "\u001b[0;31mFileNotFoundError\u001b[0m: [Errno 2] No such file or directory: 'metadata_bulla_bns.json'"
     ]
    }
   ],
   "source": [
    "# Simulator:\n",
    "metadata = 'metadata_bulla_bns.json'\n",
    "model_file = 'bulla-bns-latent-20-hidden-1000-CV-4-2021-04-21-epoch-200.pt'\n",
    "model = kilonovanet.Model(metadata, model_file)"
   ]
  },
  {
   "cell_type": "code",
   "execution_count": 9,
   "id": "3a33e825-6d9e-4273-afbf-e4e20c3dbca5",
   "metadata": {},
   "outputs": [
    {
     "name": "stdout",
     "output_type": "stream",
     "text": [
      "Range of the Spectra: 5000 - 8000\n"
     ]
    }
   ],
   "source": [
    "# set prior distribution for the parameters\n",
    "prior = utils.BoxUniform(low = torch.tensor([1e-3, 1e-2, 0.0, 0.0]), \n",
    "                         high = torch.tensor([2e-2, 0.13, 90, 1.0]))\n",
    "#prior that wil be used in training the NPE model on GPUs\n",
    "prior_cuda = utils.BoxUniform(low = torch.tensor([1e-3, 1e-2, 0.0, 0.0]), \n",
    "                         high = torch.tensor([2e-2, 0.13, 90, 1.0]), device='cuda')\n",
    "#Range of our input spectral data\n",
    "wl_sim = np.linspace(5000.0, 8000.0, 550)\n",
    "print('Range of the Spectra: 5000 - 8000')"
   ]
  },
  {
   "cell_type": "code",
   "execution_count": 28,
   "id": "96e45b15-2277-473e-86f9-601ea5fc6bfe",
   "metadata": {},
   "outputs": [
    {
     "data": {
      "application/json": {
       "ascii": false,
       "bar_format": null,
       "colour": null,
       "elapsed": 0.009183406829833984,
       "initial": 0,
       "n": 0,
       "ncols": null,
       "nrows": 30,
       "postfix": null,
       "prefix": "Running 10000 simulations.",
       "rate": null,
       "total": 10000,
       "unit": "it",
       "unit_divisor": 1000,
       "unit_scale": false
      },
      "application/vnd.jupyter.widget-view+json": {
       "model_id": "ac02169cc90140888927b6f07c02272c",
       "version_major": 2,
       "version_minor": 0
      },
      "text/plain": [
       "Running 10000 simulations.:   0%|          | 0/10000 [00:00<?, ?it/s]"
      ]
     },
     "metadata": {},
     "output_type": "display_data"
    }
   ],
   "source": [
    "#SBI function that samples the uniform prior and generates spectra using the function <simulate_spec>\n",
    "#Number of simulations\n",
    "NUM_SIM = 10000\n",
    "\n",
    "# make a SBI-wrapper on the simulator object for compatibility\n",
    "simulator, prior = prepare_for_sbi(simulate_spec, prior)\n",
    "\n",
    "#simulated data points\n",
    "theta_j, X_j = simulate_for_sbi(simulator, proposal=prior, num_simulations=NUM_SIM)\n",
    "\n",
    "#Tensor to Numpy array [optional]\n",
    "X_j = np.array(X_j).astype(float)\n",
    "theta_j = np.array(theta_j).astype(float)\n",
    "#Changing the shape from (N,values,channels) to (N,channels,values)\n",
    "X_j = np.swapaxes(X_j[:,:,:],1,2)\n",
    "#[optional] You can split this Dataset into Validation, Train and Test or You can also generate more spectra using the simulate_for_sbi function"
   ]
  },
  {
   "cell_type": "markdown",
   "id": "773f5f9c-6f4f-48ce-aebc-8110407ca779",
   "metadata": {},
   "source": [
    "## Amortized Neural Posterior Estimation <font color=\"#FF7F50\">(ANPE)<font>\n",
    "\n",
    "The basic idea behind an Amortized Neural posterior estimation is to first train a model (training\n",
    "phase) – specifically, a density estimator – that is not focused on any particular observation. Instead,\n",
    "it learns to be a versatile estimator that attempts to approximate all posteriors supported by the prior.\n",
    "Once trained, the density estimator can, in the second phase (inference), quickly and continually\n",
    "infer parameters of BNS kilonovae from their spectra. To train the Network, we can simulate using\n",
    "prior-draw parameters to build a dataset, of kilonova parameters (**θj**) and their respective spectra (**Xj**),\n",
    "and minimize the Loss function over the weights. Once the density estimator has been trained on\n",
    "simulated data x, it can then be applied to empirical data **X0** to compute the posterior."
   ]
  },
  {
   "cell_type": "markdown",
   "id": "2d296d17-057e-4475-82a3-7c22a93a60c7",
   "metadata": {
    "tags": []
   },
   "source": [
    "### Embedding Nets\n",
    "\n",
    "SBI provides a feature to understand summary statistics from simulation results using a neural network called embedding_net. When you specify an embedding_net, the simulation results go through it, and its outputs are used by the neural density estimator. The embedding_net's parameters are learned along with the neural density estimator's parameters. SBI includes preset embedding networks like MLP, CNN, and permutation-invariant networks, or you can use your own custom-written embedding networks.\n",
    "\n",
    "Obs: only SNPE and SNRE methods can use an embedding_net to learn summary statistics from simulation outputs. SNLE does not offer this functionality since the simulation outputs x are the outputs of the neural density estimator.\n"
   ]
  },
  {
   "cell_type": "code",
   "execution_count": 29,
   "id": "fc52ba32-c31c-44f2-8eb0-d7e0a460d414",
   "metadata": {},
   "outputs": [],
   "source": [
    "#Example of a Custom Embedding Net \n",
    "class Embedding_net_Darc(nn.Module):\n",
    "    def __init__(self,filters1,filters2,filters3,ks1,ks2,ks3,lstm1,lstm2,outfeat):\n",
    "        super().__init__()\n",
    "        self.conv1 = nn.Conv1d(in_channels=3, out_channels=filters1, kernel_size=2,padding='same')\n",
    "        self.act1 = nn.ReLU()\n",
    "        self.pool1 = nn.MaxPool1d(kernel_size=ks1, stride=ks1)\n",
    "        self.conv2 = nn.Conv1d(in_channels=filters1, out_channels=filters2, kernel_size=2,padding='same')\n",
    "        self.act2 = nn.ReLU()\n",
    "        self.pool2 = nn.MaxPool1d(kernel_size=ks2, stride=ks2)\n",
    "        self.conv3 = nn.Conv1d(in_channels=filters2, out_channels=filters3, kernel_size=2,padding='same')\n",
    "        self.act3 = nn.ReLU()\n",
    "        self.pool3 = nn.MaxPool1d(kernel_size=ks3, stride=ks3)\n",
    "        self.lstm = nn.LSTM(input_size=filters3, hidden_size=lstm1, bidirectional=True, batch_first=True)\n",
    "        self.lstm2 = nn.LSTM(input_size=lstm1*2, hidden_size=lstm2, bidirectional=True, batch_first=True)\n",
    "        self.flat = nn.Flatten()\n",
    "        self.fc1 = nn.Linear(in_features=int((lstm2*2)*(int((550)/(ks1*ks2*ks3)))), out_features=outfeat)\n",
    "        self.act4 = nn.ReLU()\n",
    "\n",
    "    def forward(self, x):\n",
    "        x = self.conv1(x)\n",
    "        x = self.act1(x)\n",
    "        x = self.pool1(x)\n",
    "        x = self.conv2(x)\n",
    "        x = self.act2(x)\n",
    "        x = self.pool2(x)\n",
    "        x = self.conv3(x)\n",
    "        x = self.act3(x)\n",
    "        x = self.pool3(x)\n",
    "        x = torch.permute(x, (0,2,1)) \n",
    "        x, _ = self.lstm(x)\n",
    "        x, _ = self.lstm2(x)\n",
    "        x = self.flat(x)\n",
    "        x = self.fc1(x)\n",
    "        x = self.act4(x)\n",
    "        return x\n",
    "\n",
    "#---------Embedding_net_Darc HYPERPARAMETERS--------------------------------------\n",
    "testefilters1=128\n",
    "testefilters2=128\n",
    "testefilters3=64\n",
    "testeks1= 2\n",
    "testeks2= 2\n",
    "testeks3= 3\n",
    "testelstm1= 300\n",
    "testelstm2= 300\n",
    "testeoutfeat = 100\n",
    "#-------------------------------------------------------------------------\n",
    "embed_net = Embedding_net_Darc(testefilters1,testefilters2,testefilters3,testeks1,testeks2,testeks3,testelstm1,testelstm2,testeoutfeat)"
   ]
  },
  {
   "cell_type": "markdown",
   "id": "4e5ed77e-40a5-415e-b188-e8d4e5f7f03f",
   "metadata": {},
   "source": [
    "### Density estimators available:\n",
    "\n",
    "- **MDN**: Mixture Density Network\n",
    "- **MAF**: Masked Autoregressive Flow (Normalizing Flows)\n",
    "- **NSF**: Neural Spline Flow (Normalizing Flows)\n",
    "- **MADE**: Masked autoencoder for distribution estimation\n",
    "\n",
    "\n",
    "### Inference procedure"
   ]
  },
  {
   "cell_type": "code",
   "execution_count": 30,
   "id": "ae85b584-c026-42e4-8c7c-dc0343f800fb",
   "metadata": {},
   "outputs": [
    {
     "name": "stdout",
     "output_type": "stream",
     "text": [
      " Training neural network. Epochs trained: 231\n",
      "        -------------------------\n",
      "        ||||| ROUND 1 STATS |||||:\n",
      "        -------------------------\n",
      "        Epochs trained: 231\n",
      "        Best validation performance: 8.0188\n",
      "        -------------------------\n",
      "        \n"
     ]
    }
   ],
   "source": [
    "#------------------TRAINING PARAMETERS--------------------------------------------------------\n",
    "batch_size=512\n",
    "stop_epoch=40\n",
    "max_epochs=230\n",
    "combined_loss=False\n",
    "retrain_from_scratch1=True\n",
    "#--------------------DENSITY ESTIMATOR PARAMETERS----------------------------------------------\n",
    "MODEL = 'mdn'\n",
    "num_bins=50 \n",
    "num_transforms=4\n",
    "hidden_features=10\n",
    "#-----------------------------------------------------------------------------------------------\n",
    "density_estimator_build_fn = posterior_nn(model=MODEL,embedding_net=embed_net,\n",
    "                                          num_bins=num_bins,num_transforms =num_transforms,\n",
    "                                          hidden_features=hidden_features)\n",
    "#-----------------------------------------------------------------------------------------------\n",
    "anpe =SNPE(prior=prior_cuda, density_estimator=density_estimator_build_fn,device='cpu')\n",
    "#-----------------------------------------------------------------------------------------------\n",
    "anpe.append_simulations(\n",
    "    torch.as_tensor(theta_j.astype(np.float32)).to('cpu'),\n",
    "    torch.as_tensor(X_j.astype(np.float32)).to('cpu'))\n",
    "#-----------------------------------------------------------------------------------------------\n",
    "p_x_y_estimator = anpe.train(training_batch_size=batch_size,stop_after_epochs=stop_epoch,\n",
    "                             max_num_epochs=max_epochs,use_combined_loss=False,\n",
    "                             show_train_summary=True,retrain_from_scratch=retrain_from_scratch1)"
   ]
  },
  {
   "cell_type": "code",
   "execution_count": 32,
   "id": "6eb8e6c5-7c50-464e-ba61-5762af318559",
   "metadata": {},
   "outputs": [
    {
     "data": {
      "image/png": "[encoded data removed]",
      "text/plain": [
       "<Figure size 1000x300 with 1 Axes>"
      ]
     },
     "metadata": {
      "needs_background": "light"
     },
     "output_type": "display_data"
    }
   ],
   "source": [
    "plt.figure(dpi=100,figsize=(10,3))\n",
    "plt.plot(np.array(anpe._summary['validation_log_probs'])*-1, label='Validation', color='black',alpha=0.8)\n",
    "plt.plot(np.array(anpe._summary['training_log_probs'])*-1, label='Train', color='orange',alpha=0.8)\n",
    "plt.title(f'SBI - Lowest Validation Loss: { -1*anpe._summary[\"best_validation_log_prob\"][0] }')\n",
    "plt.xlabel('Epochs')\n",
    "plt.ylabel('Loss')\n",
    "plt.legend()\n",
    "plt.show()"
   ]
  },
  {
   "cell_type": "code",
   "execution_count": 26,
   "id": "f99ae1f3-c755-44b7-9f3e-28359524c4a4",
   "metadata": {},
   "outputs": [],
   "source": [
    "#After the Training phase is over we are able to use the NPE method to make bayesian inference in any data supported by our prior\n",
    "#-----------------------------------------------------------------------------------------------\n",
    "#we can use this density estimator to build the posterior:\n",
    "hatp_x_y = anpe.build_posterior(p_x_y_estimator)\n",
    "#-----------------------------------------------------------------------------------------------\n",
    "#Save the Trained Density estimator:\n",
    "# model_filename = \"Model.pkl\"\n",
    "#     with open(model_filename, \"wb\") as handle:\n",
    "#         pickle.dump(hatp_x_y, handle)"
   ]
  },
  {
   "cell_type": "markdown",
   "id": "df32bb70-bf50-47e3-a180-b7379917e23e",
   "metadata": {},
   "source": [
    "Now, this hatp_x_y is ready to be used to produce posterior distributions in mere seconds for any spectral data that meets the requirements of our input data.\n",
    "The evaluation of the model and diagnostic tools will be explored in another notebook, which is also available in this GitHub repository."
   ]
  },
  {
   "cell_type": "markdown",
   "id": "38c865d8-0eaa-4459-9830-f7079b6f9bdb",
   "metadata": {},
   "source": [
    "## Sequential Neural Posterior Estimation <font color=\"#FF7F50\">(SNPE)<font>\n",
    "In the previous tutorials, we have inferred the posterior using Amortized Inference in a single round of training. In single-round inference, we draw parameters from the prior, simulate the corresponding data, and then train a neural network to obtain the posterior. However, if one is interested in only one particular observation **x_o** sampling from the prior can be inefficient in the number of simulations because one is effectively learning a posterior estimate for all observations in the prior space. In this tutorial, we show how one can alleviate this issue by performing multi-round inference with sbi.\n",
    "\n",
    "<font color=\"#FF7F50\"> Sequential Neural Posterior Estimation: <font> \n",
    "    \n",
    "It also starts by drawing parameters from the prior, simulating them, and training a neural network to estimate the posterior distribution. Afterwards, however, it continues inference in multiple rounds, focusing on a particular observation x_o. In each new round of inference, it draws samples from the obtained posterior distribution conditioned (the proposal posterior) at x_o (instead of from the prior), simulates these, and trains the network again. This process can be repeated arbitrarily often to get increasingly good approximations to the true posterior distribution at x_o. \n",
    "\n",
    "However minimizling the Loss function using the the proposal posterior as prior no longer yels the true posterior and it requires corrections:\n",
    "SBI methods employing neural conditional density estimators differ primarily in how they deal with this problem,with three main approaches developed so far:\n",
    "\n",
    "### SNPE-A\n",
    "**Fast ε-free Inference of Simulation Models with Bayesian Conditional Density Estimation**<br> by Papamakarios & Murray (NeurIPS 2016) <br>[[PDF]](https://papers.nips.cc/paper/6084-fast-free-inference-of-simulation-models-with-bayesian-conditional-density-estimation.pdf) [[BibTeX]](https://papers.nips.cc/paper/6084-fast-free-inference-of-simulation-models-with-bayesian-conditional-density-estimation/bibtex)\n"
   ]
  },
  {
   "cell_type": "code",
   "execution_count": null,
   "id": "2ee66352-8598-4588-a3ff-0a7ccd05c197",
   "metadata": {},
   "outputs": [],
   "source": [
    "Inference = SNPE_A(prior)\n",
    "proposal = prior\n",
    "for _ in range(rounds):\n",
    "    theta = proposal.sample((num_sims,))\n",
    "    x = simulator(theta)\n",
    "    _ = inference.append_simulations(theta, x, proposal=proposal).train()\n",
    "    posterior = inference.build_posterior().set_default_x(x_o)\n",
    "    proposal = posterior"
   ]
  },
  {
   "cell_type": "markdown",
   "id": "e3a4b209-2f3a-4510-aea9-0a48cbd98aca",
   "metadata": {},
   "source": [
    "### SNPE-C\n",
    "**Automatic posterior transformation for likelihood-free inference**<br>by Greenberg, Nonnenmacher & Macke (ICML 2019) <br>[[PDF]](http://proceedings.mlr.press/v97/greenberg19a/greenberg19a.pdf)"
   ]
  },
  {
   "cell_type": "code",
   "execution_count": null,
   "id": "0873a63c-c746-4200-98b8-b2df41969730",
   "metadata": {},
   "outputs": [],
   "source": [
    "from sbi.inference import SNPE\n",
    "inference = SNPE(prior)\n",
    "proposal = prior\n",
    "for _ in range(rounds):\n",
    "    theta = proposal.sample((num_sims,))\n",
    "    x = simulator(theta)\n",
    "    _ = inference.append_simulations(theta, x, proposal=proposal).train()\n",
    "    posterior = inference.build_posterior().set_default_x(x_o)\n",
    "    proposal = posterior"
   ]
  },
  {
   "cell_type": "markdown",
   "id": "a51059a2-9dfa-4e87-90c2-321903ff837a",
   "metadata": {
    "tags": []
   },
   "source": [
    "### TSNPE\n",
    "**Truncated proposals for scalable and hassle-free simulation-based inference** <br> by Deistler, Goncalves & Macke (NeurIPS 2022) <br>[[Paper]](https://arxiv.org/abs/2210.04815)"
   ]
  },
  {
   "cell_type": "code",
   "execution_count": null,
   "id": "941611cd-15ff-463d-a307-96a8cbe097f0",
   "metadata": {},
   "outputs": [],
   "source": [
    "from sbi.inference import SNPE\n",
    "from sbi.utils import get_density_thresholder, RestrictedPrior\n",
    "\n",
    "inference = SNPE(prior)\n",
    "proposal = prior\n",
    "for _ in range(rounds):\n",
    "    theta = proposal.sample((num_sims,))\n",
    "    x = simulator(theta)\n",
    "    _ = inference.append_simulations(theta, x).train(force_first_round_loss=True)\n",
    "    posterior = inference.build_posterior().set_default_x(x_o)\n",
    "\n",
    "    accept_reject_fn = get_density_thresholder(posterior, quantile=1e-4)\n",
    "    proposal = RestrictedPrior(prior, accept_reject_fn, sample_with=\"rejection\")"
   ]
  },
  {
   "cell_type": "markdown",
   "id": "32e5e80c-0775-4ba0-aca5-d814674b2ff1",
   "metadata": {},
   "source": [
    "# Functions "
   ]
  },
  {
   "cell_type": "code",
   "execution_count": 3,
   "id": "40f61548-6f5a-4f9c-a936-8278a93aecbb",
   "metadata": {},
   "outputs": [
    {
     "name": "stderr",
     "output_type": "stream",
     "text": [
      "/opt/conda/lib/python3.11/site-packages/tqdm/auto.py:21: TqdmWarning: IProgress not found. Please update jupyter and ipywidgets. See https://ipywidgets.readthedocs.io/en/stable/user_install.html\n",
      "  from .autonotebook import tqdm as notebook_tqdm\n",
      "WARNING (pytensor.configdefaults): g++ not detected!  PyTensor will be unable to compile C-implementations and will default to Python. Performance may be severely degraded. To remove this warning, set PyTensor flags cxx to an empty string.\n",
      "WARNING (pytensor.tensor.blas): Using NumPy C-API based implementation for BLAS functions.\n"
     ]
    },
    {
     "ename": "ImportError",
     "evalue": "cannot import name 'prepare_for_sbi' from 'sbi.inference' (/opt/conda/lib/python3.11/site-packages/sbi/inference/__init__.py)",
     "output_type": "error",
     "traceback": [
      "\u001b[0;31m---------------------------------------------------------------------------\u001b[0m",
      "\u001b[0;31mImportError\u001b[0m                               Traceback (most recent call last)",
      "Cell \u001b[0;32mIn[3], line 14\u001b[0m\n\u001b[1;32m     12\u001b[0m \u001b[38;5;28;01mfrom\u001b[39;00m \u001b[38;5;21;01msbi\u001b[39;00m \u001b[38;5;28;01mimport\u001b[39;00m utils \u001b[38;5;28;01mas\u001b[39;00m utils\n\u001b[1;32m     13\u001b[0m \u001b[38;5;28;01mfrom\u001b[39;00m \u001b[38;5;21;01msbi\u001b[39;00m \u001b[38;5;28;01mimport\u001b[39;00m analysis \u001b[38;5;28;01mas\u001b[39;00m analysis\n\u001b[0;32m---> 14\u001b[0m \u001b[38;5;28;01mfrom\u001b[39;00m \u001b[38;5;21;01msbi\u001b[39;00m\u001b[38;5;21;01m.\u001b[39;00m\u001b[38;5;21;01minference\u001b[39;00m \u001b[38;5;28;01mimport\u001b[39;00m prepare_for_sbi, simulate_for_sbi, SNLE, ratio_estimator_based_potential, SNRE_A,SNRE,SNPE\n\u001b[1;32m     15\u001b[0m \u001b[38;5;28;01mfrom\u001b[39;00m \u001b[38;5;21;01msbi\u001b[39;00m\u001b[38;5;21;01m.\u001b[39;00m\u001b[38;5;21;01minference\u001b[39;00m \u001b[38;5;28;01mimport\u001b[39;00m likelihood_estimator_based_potential, ImportanceSamplingPosterior, MCMCPosterior\n\u001b[1;32m     16\u001b[0m \u001b[38;5;28;01mimport\u001b[39;00m \u001b[38;5;21;01mtorch\u001b[39;00m\n",
      "\u001b[0;31mImportError\u001b[0m: cannot import name 'prepare_for_sbi' from 'sbi.inference' (/opt/conda/lib/python3.11/site-packages/sbi/inference/__init__.py)"
     ]
    }
   ],
   "source": [
    "import os, sys\n",
    "os.environ['CUDA_DEVICE_ORDER'] = 'PCI_BUS_ID'\n",
    "os.environ['CUDA_VISIBLE_DEVICES'] = '0'\n",
    "from torch import nn\n",
    "import scipy\n",
    "import kilonovanet\n",
    "import numpy as np\n",
    "import matplotlib.pyplot as plt\n",
    "from scipy.ndimage import gaussian_filter\n",
    "from tqdm.notebook import tqdm\n",
    "from scipy import stats as st\n",
    "from sbi import utils as utils\n",
    "from sbi import analysis as analysis\n",
    "from sbi.inference import prepare_for_sbi, simulate_for_sbi, SNLE, ratio_estimator_based_potential, SNRE_A,SNRE,SNPE\n",
    "from sbi.inference import likelihood_estimator_based_potential, ImportanceSamplingPosterior, MCMCPosterior\n",
    "import torch\n",
    "from sbi.utils.get_nn_models import posterior_nn\n",
    "import pickle\n",
    "import math\n",
    "# Function to apply smoothing to the input array using a Gaussian filter\n",
    "def flux_smoothed(arr, sigma):\n",
    "    # Conversion factor from parsecs to centimeters\n",
    "    pc_to_cm = 3.086e18\n",
    "    # Calculate real flux using the distance and convert it to cm^2\n",
    "    flux_real = arr * (1 / (4 * math.pi * (10 * 3.086e18) ** 2))\n",
    "    # Apply Gaussian smoothing to the flux\n",
    "    smooth = gaussian_filter(flux_real, sigma, 0)\n",
    "    return smooth\n",
    "\n",
    "def simulate_spec(params):\n",
    "    '''\n",
    "    Simulate a spectrum based on the given parameters.\n",
    "    \n",
    "    Parameters:\n",
    "    - params: Input parameters for the simulation\n",
    "    - time: Days after the merger\n",
    "    - wl: Wavelenght interval of the Kilonovanet simulator\n",
    "    - wl_sim: Wavelenght interval that our input spectra will be\n",
    "    \n",
    "    Returns:\n",
    "    - flux_interp: Interpolated and smoothed flux values for the simulated spectrum\n",
    "    '''\n",
    "    wl = np.linspace(100.0, 99900, 500)\n",
    "    #days after the merger\n",
    "    time = [1.5,2.5,3.5]\n",
    "    spec = model.predict_spectra(params,time)\n",
    "    smoothed_flux0 = flux_smoothed(spec[0][0], 2)\n",
    "    smoothed_flux1 = flux_smoothed(spec[0][1], 2)\n",
    "    smoothed_flux2 = flux_smoothed(spec[0][2], 2)\n",
    "\n",
    "    smoothed_sed0 = np.vstack([wl, smoothed_flux0]).T\n",
    "    flux_interp0 = np.interp(wl_sim, smoothed_sed0[:,0], smoothed_sed0[:,1])\n",
    "    \n",
    "    smoothed_sed1 = np.vstack([wl, smoothed_flux1]).T\n",
    "    flux_interp1 = np.interp(wl_sim, smoothed_sed1[:,0], smoothed_sed1[:,1])\n",
    "    \n",
    "    smoothed_sed2 = np.vstack([wl, smoothed_flux2]).T\n",
    "    flux_interp2 = np.interp(wl_sim, smoothed_sed2[:,0], smoothed_sed2[:,1])\n",
    "    \n",
    "    flux_interp = np.concatenate((flux_interp0.reshape((550,1)),flux_interp1.reshape((550,1)),flux_interp2.reshape((550,1))),axis=-1)\n",
    "    \n",
    "    return flux_interp"
   ]
  },
  {
   "cell_type": "markdown",
   "id": "f4ba47f2-e40a-49cb-8055-6f1948ca6456",
   "metadata": {},
   "source": [
    "# Evaluating SBI:"
   ]
  },
  {
   "cell_type": "markdown",
   "id": "85f632f7-7ba4-4491-bf70-40d241dde3e5",
   "metadata": {},
   "source": [
    "### [TASK] Using everything that you learned above, simulate a new set of observations (Test_set) and test how good SBI is at retrieving the Kilonova parameters."
   ]
  },
  {
   "cell_type": "code",
   "execution_count": null,
   "id": "c694acc3-5421-47fc-8806-d45fa49ba6c4",
   "metadata": {},
   "outputs": [],
   "source": [
    "#Documentation: https://sbi-dev.github.io/sbi/latest/tutorials/00_getting_started/\n",
    "# Suggestion Reproduce some of the plots from https://iopscience.iop.org/article/10.3847/1538-4357/ad53c7 \n",
    "# y_true x y_pred plot\n",
    "# Residual plot"
   ]
  },
  {
   "cell_type": "code",
   "execution_count": null,
   "id": "9b78617f-e6cd-4394-9409-f8b474814c77",
   "metadata": {},
   "outputs": [],
   "source": [
    "# observation = #New test set\n",
    "# hatp_x_y = #ANPE model\n",
    "# N_samples = 10000 # Numero de Samples\n",
    "# samples = hatp_x_y.sample((N_samples,), x=observation)\n",
    "# samples is the parameter distribution for a given observation"
   ]
  },
  {
   "cell_type": "code",
   "execution_count": null,
   "id": "c317e49a-0233-4fe2-b6bb-d34c22b26746",
   "metadata": {},
   "outputs": [],
   "source": [
    "#Example of how to simulate one sample -- alternative to the one described before:\n",
    "# theta_true = prior.sample((1,))\n",
    "# # generate our observation\n",
    "# x_obs = simulate_spec(theta_true)"
   ]
  },
  {
   "cell_type": "code",
   "execution_count": null,
   "id": "1a5a0553-1112-475e-a244-d63fd0249ac6",
   "metadata": {},
   "outputs": [],
   "source": [
    "#Example Corner plot:\n",
    "#theta_true = True values for the observation, which is known since you simulated\n",
    "# samples = hatp_x_y.sample((N_samples,), x=observation)\n",
    "# pairplot(samples,\n",
    "#          points=theta_true,\n",
    "#           figsize=(6, 6));"
   ]
  }
 ],
 "metadata": {
  "kernelspec": {
   "display_name": "Python 3 (ipykernel)",
   "language": "python",
   "name": "python3"
  },
  "language_info": {
   "codemirror_mode": {
    "name": "ipython",
    "version": 3
   },
   "file_extension": ".py",
   "mimetype": "text/x-python",
   "name": "python",
   "nbconvert_exporter": "python",
   "pygments_lexer": "ipython3",
   "version": "3.11.9"
  }
 },
 "nbformat": 4,
 "nbformat_minor": 5
}
